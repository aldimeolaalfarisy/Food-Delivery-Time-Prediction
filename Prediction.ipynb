{
 "cells": [
  {
   "cell_type": "code",
   "execution_count": 1,
   "id": "90844181",
   "metadata": {},
   "outputs": [],
   "source": [
    "import numpy as np\n",
    "import pickle"
   ]
  },
  {
   "cell_type": "code",
   "execution_count": 2,
   "id": "a42069bb",
   "metadata": {},
   "outputs": [],
   "source": [
    "with open('Deliver_Predict','rb') as r:\n",
    "    model = pickle.load(r)"
   ]
  },
  {
   "cell_type": "code",
   "execution_count": 3,
   "id": "f7c58acd",
   "metadata": {},
   "outputs": [
    {
     "name": "stdout",
     "output_type": "stream",
     "text": [
      "Age of Delivery Person: 30\n",
      "Rating of Previous Deliveries: 2.3\n",
      "Total Distance: 16\n",
      "Order Type: Buffet\n",
      "Vehicle: electric scooter\n",
      "Predicted Delivery Time in Minutes:  37\n"
     ]
    },
    {
     "name": "stderr",
     "output_type": "stream",
     "text": [
      "C:\\Users\\ASUS\\Anaconda3\\lib\\site-packages\\sklearn\\base.py:450: UserWarning: X does not have valid feature names, but RandomForestRegressor was fitted with feature names\n",
      "  warnings.warn(\n"
     ]
    }
   ],
   "source": [
    "# Input\n",
    "\n",
    "a = int(input('Age of Delivery Person: '))\n",
    "b = float(input('Rating of Previous Deliveries: '))\n",
    "c = float(input('Total Distance: '))\n",
    "d = input('Order Type: ')\n",
    "e = input('Vehicle: ')\n",
    "\n",
    "# Order and vehicle\n",
    "\n",
    "food = ['Buffet', 'Drinks', 'Meal', 'Snack']\n",
    "ride = ['bicycle', 'electric scooter', 'motorcycle', 'scooter']\n",
    "\n",
    "# Integer data\n",
    "\n",
    "abc = [a,b,c]\n",
    "\n",
    "# Order data\n",
    "\n",
    "for i in range(len(food)):\n",
    "    if food[i] == d:\n",
    "        food[i] = 1\n",
    "        \n",
    "for i in range(len(food)):\n",
    "    if food[i] != 1:\n",
    "        food[i] = 0\n",
    "        \n",
    "# Vehicle data\n",
    "\n",
    "for i in range(len(ride)):\n",
    "    if ride[i] == e:\n",
    "        ride[i] = 1\n",
    "        \n",
    "for i in range(len(ride)):\n",
    "    if ride[i] != 1:\n",
    "        ride[i] = 0\n",
    "\n",
    "# Create array\n",
    "\n",
    "abc.extend(food)\n",
    "abc.extend(ride)\n",
    "features = np.array([abc])\n",
    "\n",
    "# Making prediction\n",
    "Delivery_Time = model.predict(features)\n",
    "print(\"Predicted Delivery Time in Minutes: \", round(Delivery_Time[0]))"
   ]
  }
 ],
 "metadata": {
  "kernelspec": {
   "display_name": "Python 3 (ipykernel)",
   "language": "python",
   "name": "python3"
  },
  "language_info": {
   "codemirror_mode": {
    "name": "ipython",
    "version": 3
   },
   "file_extension": ".py",
   "mimetype": "text/x-python",
   "name": "python",
   "nbconvert_exporter": "python",
   "pygments_lexer": "ipython3",
   "version": "3.9.12"
  }
 },
 "nbformat": 4,
 "nbformat_minor": 5
}
