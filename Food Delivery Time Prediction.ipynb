{
 "cells": [
  {
   "cell_type": "markdown",
   "id": "369be5c1",
   "metadata": {},
   "source": [
    "# Food Delivery Time Prediction"
   ]
  },
  {
   "cell_type": "markdown",
   "id": "c695895f",
   "metadata": {},
   "source": [
    "## Background\n",
    "\n",
    "Delivery service is a form of service that provides services to deliver orders (especially goods) that ordered by customers to a place according to their wishes. Currently, delivery service is one of the services most needed by people in obtaining the goods needed because it saves a lot of time and energy.\n",
    "\n",
    "So, currently there are many types of businesses that have delivery services as one of the services that can be provided to customers. One of them is a business engaged in the food or beverage sector that has a service to deliver food ordered to the place the customer wants.\n",
    "\n",
    "However, of course the timeliness required in delivering food to the customer's place is the main challenge in this service. Accuracy time in delivering the food must be shown to keep transparency with their customers. So, by using historical data on the time it takes to deliver food, the use of machine learning algorithms is one way to predict the accuracy of the time needed to deliver food to location."
   ]
  },
  {
   "cell_type": "markdown",
   "id": "4e5e7d80",
   "metadata": {},
   "source": [
    "## Objectives\n",
    "\n",
    "1. What factors can affect the time in delivering food from the restaurant to the destination location?\n",
    "2. How much food delivery time prediction accuracy?"
   ]
  },
  {
   "cell_type": "markdown",
   "id": "59f64870",
   "metadata": {},
   "source": [
    "## Load Data & Libraries"
   ]
  },
  {
   "cell_type": "code",
   "execution_count": 1,
   "id": "cabd7df1",
   "metadata": {},
   "outputs": [
    {
     "name": "stdout",
     "output_type": "stream",
     "text": [
      "Requirement already satisfied: shap in c:\\users\\asus\\anaconda3\\lib\\site-packages (0.41.0)\n",
      "Requirement already satisfied: packaging>20.9 in c:\\users\\asus\\anaconda3\\lib\\site-packages (from shap) (21.3)\n",
      "Requirement already satisfied: cloudpickle in c:\\users\\asus\\anaconda3\\lib\\site-packages (from shap) (2.0.0)\n",
      "Requirement already satisfied: scipy in c:\\users\\asus\\anaconda3\\lib\\site-packages (from shap) (1.7.3)\n",
      "Requirement already satisfied: numpy in c:\\users\\asus\\anaconda3\\lib\\site-packages (from shap) (1.21.5)\n",
      "Requirement already satisfied: pandas in c:\\users\\asus\\anaconda3\\lib\\site-packages (from shap) (1.4.2)\n",
      "Requirement already satisfied: numba in c:\\users\\asus\\anaconda3\\lib\\site-packages (from shap) (0.55.1)\n",
      "Requirement already satisfied: slicer==0.0.7 in c:\\users\\asus\\anaconda3\\lib\\site-packages (from shap) (0.0.7)\n",
      "Requirement already satisfied: tqdm>4.25.0 in c:\\users\\asus\\anaconda3\\lib\\site-packages (from shap) (4.64.0)\n",
      "Requirement already satisfied: scikit-learn in c:\\users\\asus\\anaconda3\\lib\\site-packages (from shap) (1.0.2)\n",
      "Requirement already satisfied: pyparsing!=3.0.5,>=2.0.2 in c:\\users\\asus\\anaconda3\\lib\\site-packages (from packaging>20.9->shap) (3.0.4)\n",
      "Requirement already satisfied: colorama in c:\\users\\asus\\anaconda3\\lib\\site-packages (from tqdm>4.25.0->shap) (0.4.4)\n",
      "Requirement already satisfied: setuptools in c:\\users\\asus\\anaconda3\\lib\\site-packages (from numba->shap) (61.2.0)\n",
      "Requirement already satisfied: llvmlite<0.39,>=0.38.0rc1 in c:\\users\\asus\\anaconda3\\lib\\site-packages (from numba->shap) (0.38.0)\n",
      "Requirement already satisfied: pytz>=2020.1 in c:\\users\\asus\\anaconda3\\lib\\site-packages (from pandas->shap) (2021.3)\n",
      "Requirement already satisfied: python-dateutil>=2.8.1 in c:\\users\\asus\\anaconda3\\lib\\site-packages (from pandas->shap) (2.8.2)\n",
      "Requirement already satisfied: six>=1.5 in c:\\users\\asus\\anaconda3\\lib\\site-packages (from python-dateutil>=2.8.1->pandas->shap) (1.16.0)\n",
      "Requirement already satisfied: threadpoolctl>=2.0.0 in c:\\users\\asus\\anaconda3\\lib\\site-packages (from scikit-learn->shap) (2.2.0)\n",
      "Requirement already satisfied: joblib>=0.11 in c:\\users\\asus\\anaconda3\\lib\\site-packages (from scikit-learn->shap) (1.1.0)\n"
     ]
    }
   ],
   "source": [
    "!pip install shap"
   ]
  },
  {
   "cell_type": "code",
   "execution_count": 2,
   "id": "57e585a5",
   "metadata": {},
   "outputs": [],
   "source": [
    "# Standard library\n",
    "\n",
    "import pandas as pd\n",
    "import numpy as np\n",
    "import seaborn as sns\n",
    "import matplotlib.pyplot as plt\n",
    "\n",
    "# Train test split library\n",
    "from sklearn.model_selection import train_test_split\n",
    "\n",
    "# Multicollinearity check library\n",
    "\n",
    "from statsmodels.stats.outliers_influence import variance_inflation_factor as vif \n",
    "from statsmodels.tools.tools import add_constant\n",
    "\n",
    "# Regression algorithm library\n",
    "\n",
    "from sklearn.linear_model import LinearRegression\n",
    "from sklearn.linear_model import Ridge\n",
    "from sklearn.linear_model import Lasso\n",
    "from sklearn.tree import DecisionTreeRegressor\n",
    "from sklearn.ensemble import RandomForestRegressor\n",
    "\n",
    "# Evaluation metric library\n",
    "\n",
    "from sklearn.metrics import mean_absolute_error\n",
    "\n",
    "# Hyperparameter tuning library\n",
    "\n",
    "from sklearn.model_selection import GridSearchCV\n",
    "\n",
    "# Feature importance library\n",
    "\n",
    "import shap\n",
    "\n",
    "# Save model\n",
    "\n",
    "import pickle"
   ]
  },
  {
   "cell_type": "code",
   "execution_count": 3,
   "id": "8a0d492d",
   "metadata": {
    "scrolled": true
   },
   "outputs": [
    {
     "data": {
      "text/html": [
       "<div>\n",
       "<style scoped>\n",
       "    .dataframe tbody tr th:only-of-type {\n",
       "        vertical-align: middle;\n",
       "    }\n",
       "\n",
       "    .dataframe tbody tr th {\n",
       "        vertical-align: top;\n",
       "    }\n",
       "\n",
       "    .dataframe thead th {\n",
       "        text-align: right;\n",
       "    }\n",
       "</style>\n",
       "<table border=\"1\" class=\"dataframe\">\n",
       "  <thead>\n",
       "    <tr style=\"text-align: right;\">\n",
       "      <th></th>\n",
       "      <th>ID</th>\n",
       "      <th>Delivery_person_ID</th>\n",
       "      <th>Delivery_person_Age</th>\n",
       "      <th>Delivery_person_Ratings</th>\n",
       "      <th>Restaurant_latitude</th>\n",
       "      <th>Restaurant_longitude</th>\n",
       "      <th>Delivery_location_latitude</th>\n",
       "      <th>Delivery_location_longitude</th>\n",
       "      <th>Type_of_order</th>\n",
       "      <th>Type_of_vehicle</th>\n",
       "      <th>Time_taken(min)</th>\n",
       "    </tr>\n",
       "  </thead>\n",
       "  <tbody>\n",
       "    <tr>\n",
       "      <th>0</th>\n",
       "      <td>4607</td>\n",
       "      <td>INDORES13DEL02</td>\n",
       "      <td>37</td>\n",
       "      <td>4.9</td>\n",
       "      <td>22.745049</td>\n",
       "      <td>75.892471</td>\n",
       "      <td>22.765049</td>\n",
       "      <td>75.912471</td>\n",
       "      <td>Snack</td>\n",
       "      <td>motorcycle</td>\n",
       "      <td>24</td>\n",
       "    </tr>\n",
       "    <tr>\n",
       "      <th>1</th>\n",
       "      <td>B379</td>\n",
       "      <td>BANGRES18DEL02</td>\n",
       "      <td>34</td>\n",
       "      <td>4.5</td>\n",
       "      <td>12.913041</td>\n",
       "      <td>77.683237</td>\n",
       "      <td>13.043041</td>\n",
       "      <td>77.813237</td>\n",
       "      <td>Snack</td>\n",
       "      <td>scooter</td>\n",
       "      <td>33</td>\n",
       "    </tr>\n",
       "    <tr>\n",
       "      <th>2</th>\n",
       "      <td>5D6D</td>\n",
       "      <td>BANGRES19DEL01</td>\n",
       "      <td>23</td>\n",
       "      <td>4.4</td>\n",
       "      <td>12.914264</td>\n",
       "      <td>77.678400</td>\n",
       "      <td>12.924264</td>\n",
       "      <td>77.688400</td>\n",
       "      <td>Drinks</td>\n",
       "      <td>motorcycle</td>\n",
       "      <td>26</td>\n",
       "    </tr>\n",
       "    <tr>\n",
       "      <th>3</th>\n",
       "      <td>7A6A</td>\n",
       "      <td>COIMBRES13DEL02</td>\n",
       "      <td>38</td>\n",
       "      <td>4.7</td>\n",
       "      <td>11.003669</td>\n",
       "      <td>76.976494</td>\n",
       "      <td>11.053669</td>\n",
       "      <td>77.026494</td>\n",
       "      <td>Buffet</td>\n",
       "      <td>motorcycle</td>\n",
       "      <td>21</td>\n",
       "    </tr>\n",
       "    <tr>\n",
       "      <th>4</th>\n",
       "      <td>70A2</td>\n",
       "      <td>CHENRES12DEL01</td>\n",
       "      <td>32</td>\n",
       "      <td>4.6</td>\n",
       "      <td>12.972793</td>\n",
       "      <td>80.249982</td>\n",
       "      <td>13.012793</td>\n",
       "      <td>80.289982</td>\n",
       "      <td>Snack</td>\n",
       "      <td>scooter</td>\n",
       "      <td>30</td>\n",
       "    </tr>\n",
       "  </tbody>\n",
       "</table>\n",
       "</div>"
      ],
      "text/plain": [
       "     ID Delivery_person_ID  Delivery_person_Age  Delivery_person_Ratings  \\\n",
       "0  4607     INDORES13DEL02                   37                      4.9   \n",
       "1  B379     BANGRES18DEL02                   34                      4.5   \n",
       "2  5D6D     BANGRES19DEL01                   23                      4.4   \n",
       "3  7A6A    COIMBRES13DEL02                   38                      4.7   \n",
       "4  70A2     CHENRES12DEL01                   32                      4.6   \n",
       "\n",
       "   Restaurant_latitude  Restaurant_longitude  Delivery_location_latitude  \\\n",
       "0            22.745049             75.892471                   22.765049   \n",
       "1            12.913041             77.683237                   13.043041   \n",
       "2            12.914264             77.678400                   12.924264   \n",
       "3            11.003669             76.976494                   11.053669   \n",
       "4            12.972793             80.249982                   13.012793   \n",
       "\n",
       "   Delivery_location_longitude Type_of_order Type_of_vehicle  Time_taken(min)  \n",
       "0                    75.912471        Snack      motorcycle                24  \n",
       "1                    77.813237        Snack         scooter                33  \n",
       "2                    77.688400       Drinks      motorcycle                26  \n",
       "3                    77.026494       Buffet      motorcycle                21  \n",
       "4                    80.289982        Snack         scooter                30  "
      ]
     },
     "execution_count": 3,
     "metadata": {},
     "output_type": "execute_result"
    }
   ],
   "source": [
    "# Load dataset\n",
    "\n",
    "data = pd.read_csv('deliverytime.txt',sep=\",\")\n",
    "data.head()"
   ]
  },
  {
   "cell_type": "markdown",
   "id": "666a5c6c",
   "metadata": {},
   "source": [
    "## Data Preprocessing"
   ]
  },
  {
   "cell_type": "code",
   "execution_count": 4,
   "id": "bd967c15",
   "metadata": {},
   "outputs": [
    {
     "name": "stdout",
     "output_type": "stream",
     "text": [
      "<class 'pandas.core.frame.DataFrame'>\n",
      "RangeIndex: 45593 entries, 0 to 45592\n",
      "Data columns (total 11 columns):\n",
      " #   Column                       Non-Null Count  Dtype  \n",
      "---  ------                       --------------  -----  \n",
      " 0   ID                           45593 non-null  object \n",
      " 1   Delivery_person_ID           45593 non-null  object \n",
      " 2   Delivery_person_Age          45593 non-null  int64  \n",
      " 3   Delivery_person_Ratings      45593 non-null  float64\n",
      " 4   Restaurant_latitude          45593 non-null  float64\n",
      " 5   Restaurant_longitude         45593 non-null  float64\n",
      " 6   Delivery_location_latitude   45593 non-null  float64\n",
      " 7   Delivery_location_longitude  45593 non-null  float64\n",
      " 8   Type_of_order                45593 non-null  object \n",
      " 9   Type_of_vehicle              45593 non-null  object \n",
      " 10  Time_taken(min)              45593 non-null  int64  \n",
      "dtypes: float64(5), int64(2), object(4)\n",
      "memory usage: 3.8+ MB\n"
     ]
    }
   ],
   "source": [
    "# General info\n",
    "\n",
    "data.info()"
   ]
  },
  {
   "cell_type": "code",
   "execution_count": 5,
   "id": "de8a75ba",
   "metadata": {},
   "outputs": [
    {
     "data": {
      "text/plain": [
       "ID                             0.0\n",
       "Delivery_person_ID             0.0\n",
       "Delivery_person_Age            0.0\n",
       "Delivery_person_Ratings        0.0\n",
       "Restaurant_latitude            0.0\n",
       "Restaurant_longitude           0.0\n",
       "Delivery_location_latitude     0.0\n",
       "Delivery_location_longitude    0.0\n",
       "Type_of_order                  0.0\n",
       "Type_of_vehicle                0.0\n",
       "Time_taken(min)                0.0\n",
       "dtype: float64"
      ]
     },
     "execution_count": 5,
     "metadata": {},
     "output_type": "execute_result"
    }
   ],
   "source": [
    "# Check ratio missing value\n",
    "\n",
    "data.isna().sum() / len(data)"
   ]
  },
  {
   "cell_type": "code",
   "execution_count": 6,
   "id": "5e89a786",
   "metadata": {},
   "outputs": [
    {
     "data": {
      "text/plain": [
       "0"
      ]
     },
     "execution_count": 6,
     "metadata": {},
     "output_type": "execute_result"
    }
   ],
   "source": [
    "# Check duplicated data\n",
    "\n",
    "data.duplicated().sum()"
   ]
  },
  {
   "cell_type": "markdown",
   "id": "517d459a",
   "metadata": {},
   "source": [
    "- Dataset consists 45593 rows and 11 columns. Then the dataset also consists of 7 numerical data and 4 categorical data\n",
    "- The problem faced is a regression problem, namely predicting the time needed to deliver food (`Time taken(min)`)\n",
    "- There are no missing value and duplicated value in this dataset. However, it is necessary to do more checking for categorical data whether there are unreasonable values or not (There is a blank space or something like that)\n",
    "- It seems all numerical values contained in the dataset are quite reasonable"
   ]
  },
  {
   "cell_type": "code",
   "execution_count": 7,
   "id": "ac432c34",
   "metadata": {},
   "outputs": [
    {
     "name": "stdout",
     "output_type": "stream",
     "text": [
      "7E+08    3\n",
      "7E+06    3\n",
      "7E+03    3\n",
      "5E+07    3\n",
      "6E+02    3\n",
      "        ..\n",
      "C3E      1\n",
      "4438     1\n",
      "A8B3     1\n",
      "8537     1\n",
      "5FB2     1\n",
      "Name: ID, Length: 45451, dtype: int64\n",
      "\t\n",
      "PUNERES01DEL01    67\n",
      "JAPRES11DEL02     67\n",
      "HYDRES04DEL02     66\n",
      "JAPRES03DEL01     66\n",
      "VADRES11DEL02     66\n",
      "                  ..\n",
      "DEHRES18DEL03      7\n",
      "AURGRES11DEL03     7\n",
      "KOLRES09DEL03      6\n",
      "KOCRES16DEL03      6\n",
      "BHPRES010DEL03     5\n",
      "Name: Delivery_person_ID, Length: 1320, dtype: int64\n",
      "\t\n",
      "Snack      11533\n",
      "Meal       11458\n",
      "Drinks     11322\n",
      "Buffet     11280\n",
      "Name: Type_of_order, dtype: int64\n",
      "\t\n",
      "motorcycle           26435\n",
      "scooter              15276\n",
      "electric_scooter      3814\n",
      "bicycle                 68\n",
      "Name: Type_of_vehicle, dtype: int64\n",
      "\t\n"
     ]
    }
   ],
   "source": [
    "# Retrieval all categorical data columns\n",
    "\n",
    "cat_col = [col_name for col_name in data.columns if data[col_name].dtypes == 'O']\n",
    "\n",
    "# Check all value in categorical data\n",
    "\n",
    "for col in cat_col:\n",
    "    print(data[col].value_counts())\n",
    "    print('\\t')"
   ]
  },
  {
   "cell_type": "markdown",
   "id": "ccf9a91e",
   "metadata": {},
   "source": [
    "There are no odd values in all categorical data."
   ]
  },
  {
   "cell_type": "markdown",
   "id": "fad8a43f",
   "metadata": {},
   "source": [
    "To get the time needed to deliver food, the distance between the restaurant and the delivery location is needed.To get the required distance, [Haversine Formula](https://en.wikipedia.org/wiki/Haversine_formula) can be used to calculate the distance between 2 locations by utilizing longitudes and latitudes."
   ]
  },
  {
   "cell_type": "code",
   "execution_count": 8,
   "id": "970951db",
   "metadata": {},
   "outputs": [],
   "source": [
    "# Set the earth's radius (in kilometers)\n",
    "R = 6371\n",
    "\n",
    "# Convert degrees to radians\n",
    "\n",
    "def deg_to_rad(degrees):\n",
    "    return degrees * (np.pi/180)\n",
    "\n",
    "# Function to calculate the distance between two points using the haversine formula\n",
    "\n",
    "def dist_calculate(lat1, lon1, lat2, lon2):\n",
    "    d_lat = deg_to_rad(lat2-lat1)\n",
    "    d_lon = deg_to_rad(lon2-lon1)\n",
    "    a = np.sin(d_lat/2)**2 + np.cos(deg_to_rad(lat1)) * np.cos(deg_to_rad(lat2)) * np.sin(d_lon/2)**2\n",
    "    c = 2 * np.arctan2(np.sqrt(a), np.sqrt(1-a))\n",
    "    return R * c\n",
    "\n",
    "# Calculate the distance between each pair of points\n",
    "\n",
    "data['Distance'] = np.nan\n",
    "\n",
    "for i in range(len(data)):\n",
    "    data.loc[i, 'Distance'] = dist_calculate(data.loc[i, 'Restaurant_latitude'], \n",
    "                                             data.loc[i, 'Restaurant_longitude'], \n",
    "                                             data.loc[i, 'Delivery_location_latitude'], \n",
    "                                             data.loc[i, 'Delivery_location_longitude'])"
   ]
  },
  {
   "cell_type": "markdown",
   "id": "aff899d4",
   "metadata": {},
   "source": [
    "Since dataset now have distance column, latitudes and longitudes data will be dropped."
   ]
  },
  {
   "cell_type": "code",
   "execution_count": 9,
   "id": "4e9f8c31",
   "metadata": {
    "scrolled": true
   },
   "outputs": [
    {
     "data": {
      "text/html": [
       "<div>\n",
       "<style scoped>\n",
       "    .dataframe tbody tr th:only-of-type {\n",
       "        vertical-align: middle;\n",
       "    }\n",
       "\n",
       "    .dataframe tbody tr th {\n",
       "        vertical-align: top;\n",
       "    }\n",
       "\n",
       "    .dataframe thead th {\n",
       "        text-align: right;\n",
       "    }\n",
       "</style>\n",
       "<table border=\"1\" class=\"dataframe\">\n",
       "  <thead>\n",
       "    <tr style=\"text-align: right;\">\n",
       "      <th></th>\n",
       "      <th>ID</th>\n",
       "      <th>Delivery_person_ID</th>\n",
       "      <th>Delivery_person_Age</th>\n",
       "      <th>Delivery_person_Ratings</th>\n",
       "      <th>Distance</th>\n",
       "      <th>Type_of_order</th>\n",
       "      <th>Type_of_vehicle</th>\n",
       "      <th>Time_taken(min)</th>\n",
       "    </tr>\n",
       "  </thead>\n",
       "  <tbody>\n",
       "    <tr>\n",
       "      <th>0</th>\n",
       "      <td>4607</td>\n",
       "      <td>INDORES13DEL02</td>\n",
       "      <td>37</td>\n",
       "      <td>4.9</td>\n",
       "      <td>3.025149</td>\n",
       "      <td>Snack</td>\n",
       "      <td>motorcycle</td>\n",
       "      <td>24</td>\n",
       "    </tr>\n",
       "    <tr>\n",
       "      <th>1</th>\n",
       "      <td>B379</td>\n",
       "      <td>BANGRES18DEL02</td>\n",
       "      <td>34</td>\n",
       "      <td>4.5</td>\n",
       "      <td>20.183530</td>\n",
       "      <td>Snack</td>\n",
       "      <td>scooter</td>\n",
       "      <td>33</td>\n",
       "    </tr>\n",
       "    <tr>\n",
       "      <th>2</th>\n",
       "      <td>5D6D</td>\n",
       "      <td>BANGRES19DEL01</td>\n",
       "      <td>23</td>\n",
       "      <td>4.4</td>\n",
       "      <td>1.552758</td>\n",
       "      <td>Drinks</td>\n",
       "      <td>motorcycle</td>\n",
       "      <td>26</td>\n",
       "    </tr>\n",
       "    <tr>\n",
       "      <th>3</th>\n",
       "      <td>7A6A</td>\n",
       "      <td>COIMBRES13DEL02</td>\n",
       "      <td>38</td>\n",
       "      <td>4.7</td>\n",
       "      <td>7.790401</td>\n",
       "      <td>Buffet</td>\n",
       "      <td>motorcycle</td>\n",
       "      <td>21</td>\n",
       "    </tr>\n",
       "    <tr>\n",
       "      <th>4</th>\n",
       "      <td>70A2</td>\n",
       "      <td>CHENRES12DEL01</td>\n",
       "      <td>32</td>\n",
       "      <td>4.6</td>\n",
       "      <td>6.210138</td>\n",
       "      <td>Snack</td>\n",
       "      <td>scooter</td>\n",
       "      <td>30</td>\n",
       "    </tr>\n",
       "  </tbody>\n",
       "</table>\n",
       "</div>"
      ],
      "text/plain": [
       "     ID Delivery_person_ID  Delivery_person_Age  Delivery_person_Ratings  \\\n",
       "0  4607     INDORES13DEL02                   37                      4.9   \n",
       "1  B379     BANGRES18DEL02                   34                      4.5   \n",
       "2  5D6D     BANGRES19DEL01                   23                      4.4   \n",
       "3  7A6A    COIMBRES13DEL02                   38                      4.7   \n",
       "4  70A2     CHENRES12DEL01                   32                      4.6   \n",
       "\n",
       "    Distance Type_of_order Type_of_vehicle  Time_taken(min)  \n",
       "0   3.025149        Snack      motorcycle                24  \n",
       "1  20.183530        Snack         scooter                33  \n",
       "2   1.552758       Drinks      motorcycle                26  \n",
       "3   7.790401       Buffet      motorcycle                21  \n",
       "4   6.210138        Snack         scooter                30  "
      ]
     },
     "execution_count": 9,
     "metadata": {},
     "output_type": "execute_result"
    }
   ],
   "source": [
    "# Remove unneeded columns\n",
    "data = data.drop(['Restaurant_latitude', 'Restaurant_longitude', \n",
    "                  'Delivery_location_latitude','Delivery_location_longitude'], axis=1)\n",
    "\n",
    "\n",
    "# Move distance column position\n",
    "data.insert(4, 'Distance', (data.pop('Distance')))\n",
    "\n",
    "# Take a look final dataset\n",
    "data.head()"
   ]
  },
  {
   "cell_type": "markdown",
   "id": "67391110",
   "metadata": {},
   "source": [
    "## Exploratory Data Analysis"
   ]
  },
  {
   "cell_type": "markdown",
   "id": "f99f6962",
   "metadata": {},
   "source": [
    "In Exploratory Data Analysis (EDA), univariate, bivariate, and multivariate analysis will be carried out."
   ]
  },
  {
   "cell_type": "markdown",
   "id": "4ede5fa7",
   "metadata": {},
   "source": [
    "### Univariate Analysis"
   ]
  },
  {
   "cell_type": "markdown",
   "id": "174a345d",
   "metadata": {},
   "source": [
    "In univariate analysis, data will be analyzed using descriptive statistics like check central tendency (mean, median, mode), outliers and data distribution."
   ]
  },
  {
   "cell_type": "code",
   "execution_count": 10,
   "id": "d85bf6f9",
   "metadata": {},
   "outputs": [],
   "source": [
    "# Group numerical and categorical data\n",
    "\n",
    "num_col = [col_name for col_name in data.columns if data[col_name].dtypes != 'O']\n",
    "cat_col = [col_name for col_name in data.columns if data[col_name].dtypes == 'O']"
   ]
  },
  {
   "cell_type": "code",
   "execution_count": 11,
   "id": "c30dc190",
   "metadata": {},
   "outputs": [
    {
     "data": {
      "text/html": [
       "<div>\n",
       "<style scoped>\n",
       "    .dataframe tbody tr th:only-of-type {\n",
       "        vertical-align: middle;\n",
       "    }\n",
       "\n",
       "    .dataframe tbody tr th {\n",
       "        vertical-align: top;\n",
       "    }\n",
       "\n",
       "    .dataframe thead th {\n",
       "        text-align: right;\n",
       "    }\n",
       "</style>\n",
       "<table border=\"1\" class=\"dataframe\">\n",
       "  <thead>\n",
       "    <tr style=\"text-align: right;\">\n",
       "      <th></th>\n",
       "      <th>Delivery_person_Age</th>\n",
       "      <th>Delivery_person_Ratings</th>\n",
       "      <th>Distance</th>\n",
       "      <th>Time_taken(min)</th>\n",
       "    </tr>\n",
       "  </thead>\n",
       "  <tbody>\n",
       "    <tr>\n",
       "      <th>count</th>\n",
       "      <td>45593.000000</td>\n",
       "      <td>45593.000000</td>\n",
       "      <td>45593.000000</td>\n",
       "      <td>45593.000000</td>\n",
       "    </tr>\n",
       "    <tr>\n",
       "      <th>mean</th>\n",
       "      <td>29.544075</td>\n",
       "      <td>4.632367</td>\n",
       "      <td>99.303911</td>\n",
       "      <td>26.294607</td>\n",
       "    </tr>\n",
       "    <tr>\n",
       "      <th>std</th>\n",
       "      <td>5.696793</td>\n",
       "      <td>0.327708</td>\n",
       "      <td>1099.731281</td>\n",
       "      <td>9.383806</td>\n",
       "    </tr>\n",
       "    <tr>\n",
       "      <th>min</th>\n",
       "      <td>15.000000</td>\n",
       "      <td>1.000000</td>\n",
       "      <td>1.465067</td>\n",
       "      <td>10.000000</td>\n",
       "    </tr>\n",
       "    <tr>\n",
       "      <th>25%</th>\n",
       "      <td>25.000000</td>\n",
       "      <td>4.600000</td>\n",
       "      <td>4.663493</td>\n",
       "      <td>19.000000</td>\n",
       "    </tr>\n",
       "    <tr>\n",
       "      <th>50%</th>\n",
       "      <td>29.000000</td>\n",
       "      <td>4.700000</td>\n",
       "      <td>9.264281</td>\n",
       "      <td>26.000000</td>\n",
       "    </tr>\n",
       "    <tr>\n",
       "      <th>75%</th>\n",
       "      <td>34.000000</td>\n",
       "      <td>4.800000</td>\n",
       "      <td>13.763977</td>\n",
       "      <td>32.000000</td>\n",
       "    </tr>\n",
       "    <tr>\n",
       "      <th>max</th>\n",
       "      <td>50.000000</td>\n",
       "      <td>6.000000</td>\n",
       "      <td>19692.674606</td>\n",
       "      <td>54.000000</td>\n",
       "    </tr>\n",
       "  </tbody>\n",
       "</table>\n",
       "</div>"
      ],
      "text/plain": [
       "       Delivery_person_Age  Delivery_person_Ratings      Distance  \\\n",
       "count         45593.000000             45593.000000  45593.000000   \n",
       "mean             29.544075                 4.632367     99.303911   \n",
       "std               5.696793                 0.327708   1099.731281   \n",
       "min              15.000000                 1.000000      1.465067   \n",
       "25%              25.000000                 4.600000      4.663493   \n",
       "50%              29.000000                 4.700000      9.264281   \n",
       "75%              34.000000                 4.800000     13.763977   \n",
       "max              50.000000                 6.000000  19692.674606   \n",
       "\n",
       "       Time_taken(min)  \n",
       "count     45593.000000  \n",
       "mean         26.294607  \n",
       "std           9.383806  \n",
       "min          10.000000  \n",
       "25%          19.000000  \n",
       "50%          26.000000  \n",
       "75%          32.000000  \n",
       "max          54.000000  "
      ]
     },
     "execution_count": 11,
     "metadata": {},
     "output_type": "execute_result"
    }
   ],
   "source": [
    "# Numerical data\n",
    "\n",
    "data[num_col].describe()"
   ]
  },
  {
   "cell_type": "code",
   "execution_count": 12,
   "id": "de75c6cb",
   "metadata": {},
   "outputs": [
    {
     "data": {
      "text/html": [
       "<div>\n",
       "<style scoped>\n",
       "    .dataframe tbody tr th:only-of-type {\n",
       "        vertical-align: middle;\n",
       "    }\n",
       "\n",
       "    .dataframe tbody tr th {\n",
       "        vertical-align: top;\n",
       "    }\n",
       "\n",
       "    .dataframe thead th {\n",
       "        text-align: right;\n",
       "    }\n",
       "</style>\n",
       "<table border=\"1\" class=\"dataframe\">\n",
       "  <thead>\n",
       "    <tr style=\"text-align: right;\">\n",
       "      <th></th>\n",
       "      <th>ID</th>\n",
       "      <th>Delivery_person_ID</th>\n",
       "      <th>Type_of_order</th>\n",
       "      <th>Type_of_vehicle</th>\n",
       "    </tr>\n",
       "  </thead>\n",
       "  <tbody>\n",
       "    <tr>\n",
       "      <th>count</th>\n",
       "      <td>45593</td>\n",
       "      <td>45593</td>\n",
       "      <td>45593</td>\n",
       "      <td>45593</td>\n",
       "    </tr>\n",
       "    <tr>\n",
       "      <th>unique</th>\n",
       "      <td>45451</td>\n",
       "      <td>1320</td>\n",
       "      <td>4</td>\n",
       "      <td>4</td>\n",
       "    </tr>\n",
       "    <tr>\n",
       "      <th>top</th>\n",
       "      <td>7E+08</td>\n",
       "      <td>PUNERES01DEL01</td>\n",
       "      <td>Snack</td>\n",
       "      <td>motorcycle</td>\n",
       "    </tr>\n",
       "    <tr>\n",
       "      <th>freq</th>\n",
       "      <td>3</td>\n",
       "      <td>67</td>\n",
       "      <td>11533</td>\n",
       "      <td>26435</td>\n",
       "    </tr>\n",
       "  </tbody>\n",
       "</table>\n",
       "</div>"
      ],
      "text/plain": [
       "           ID Delivery_person_ID Type_of_order Type_of_vehicle\n",
       "count   45593              45593         45593           45593\n",
       "unique  45451               1320             4               4\n",
       "top     7E+08     PUNERES01DEL01        Snack      motorcycle \n",
       "freq        3                 67         11533           26435"
      ]
     },
     "execution_count": 12,
     "metadata": {},
     "output_type": "execute_result"
    }
   ],
   "source": [
    "# Categorical data\n",
    "\n",
    "data[cat_col].describe()"
   ]
  },
  {
   "cell_type": "markdown",
   "id": "4ceba798",
   "metadata": {},
   "source": [
    "- It looks like `distance` has skew data distribution and has extreme outliers (the difference between the mean and the median is relatively large). For outliers will be checked further using boxplot and IQR, then for data distribution will be checked further using histogram\n",
    "- Mean and median value `Time_taken(min)` column relatively has same value(most likely to have normal data distribution)\n",
    "- Since `ID` and `Delivery_person_ID` are both identities, any analysis result will not gain any insights"
   ]
  },
  {
   "cell_type": "code",
   "execution_count": 13,
   "id": "82c4aafe",
   "metadata": {
    "scrolled": false
   },
   "outputs": [
    {
     "data": {
      "image/png": "[encoded data removed]",
      "text/plain": [
       "<Figure size 576x288 with 4 Axes>"
      ]
     },
     "metadata": {
      "needs_background": "light"
     },
     "output_type": "display_data"
    }
   ],
   "source": [
    "# Detecting outliers using boxplot\n",
    "\n",
    "plt.figure(figsize=(8,4))\n",
    "for i in range(0, len(num_col)):\n",
    "    plt.subplot(1, len(num_col), i+1)\n",
    "    sns.boxplot(y = data[num_col[i]], color = '#1AD761')\n",
    "    plt.tight_layout()"
   ]
  },
  {
   "cell_type": "markdown",
   "id": "14168a7e",
   "metadata": {},
   "source": [
    "It looks like `Delivery_person_Ratings` and `distance` columns have extreme outliers."
   ]
  },
  {
   "cell_type": "code",
   "execution_count": 14,
   "id": "fec3366a",
   "metadata": {},
   "outputs": [
    {
     "name": "stdout",
     "output_type": "stream",
     "text": [
      "Max value in Delivery_person_Ratings column is 6.0\n",
      "Min value in Delivery_person_Ratings column is 1.0\n",
      "\t\n",
      "Max value in Distance column is 19692.67460647305\n",
      "Min value in Distance column is 1.4650674052308583\n",
      "\t\n"
     ]
    }
   ],
   "source": [
    "# Check Delivery_person_Ratings and distance maximum and minimum value\n",
    "\n",
    "column = ['Delivery_person_Ratings', 'Distance']\n",
    "\n",
    "for col in column:\n",
    "    print('Max value in {a} column is {b}'.format(a=col, b=data[col].max()))\n",
    "    print('Min value in {a} column is {b}'.format(a=col, b=data[col].min()))\n",
    "    print('\\t')"
   ]
  },
  {
   "cell_type": "code",
   "execution_count": 15,
   "id": "36f7b361",
   "metadata": {},
   "outputs": [
    {
     "name": "stdout",
     "output_type": "stream",
     "text": [
      "Outliers in Delivery_person_Ratings column are < 3.999999999999999 or > 5.2\n",
      "Outliers in Distance column are < -22.63795911360644 or > 31.964945393444165\n"
     ]
    }
   ],
   "source": [
    "# Check lower and upper boundary for Delivery_person_Ratings and distance column\n",
    "\n",
    "for col in column:\n",
    "    IQR = data[col].quantile(0.75) - data[col].quantile(0.25)\n",
    "    lower_fence = data[col].quantile(0.25) - (IQR * 3)\n",
    "    upper_fence = data[col].quantile(0.25) + (IQR * 3)\n",
    "    print('Outliers in {a} column are < {b} or > {c}'.format(a=col, b=lower_fence, c=upper_fence))"
   ]
  },
  {
   "cell_type": "markdown",
   "id": "25aa2d81",
   "metadata": {},
   "source": [
    "Extreme outliers at `Delivery_person_Ratings` column are on lower boundary, meanwhile `distance` column have extreme outliers in upper boundary."
   ]
  },
  {
   "cell_type": "code",
   "execution_count": 16,
   "id": "d26e43bf",
   "metadata": {},
   "outputs": [
    {
     "data": {
      "image/png": "[encoded data removed]",
      "text/plain": [
       "<Figure size 1008x576 with 1 Axes>"
      ]
     },
     "metadata": {
      "needs_background": "light"
     },
     "output_type": "display_data"
    },
    {
     "data": {
      "image/png": "[encoded data removed]",
      "text/plain": [
       "<Figure size 1008x576 with 1 Axes>"
      ]
     },
     "metadata": {
      "needs_background": "light"
     },
     "output_type": "display_data"
    },
    {
     "data": {
      "image/png": "[encoded data removed]",
      "text/plain": [
       "<Figure size 1008x576 with 1 Axes>"
      ]
     },
     "metadata": {
      "needs_background": "light"
     },
     "output_type": "display_data"
    },
    {
     "data": {
      "image/png": "[encoded data removed]",
      "text/plain": [
       "<Figure size 1008x576 with 1 Axes>"
      ]
     },
     "metadata": {
      "needs_background": "light"
     },
     "output_type": "display_data"
    }
   ],
   "source": [
    "# Data distribution check\n",
    "\n",
    "for i in range(0, len(num_col)):\n",
    "    plt.figure(figsize=(14,8))\n",
    "    plt.subplot(2, len(num_col)//2, i+1)\n",
    "    plt.hist(data[num_col[i]], color='#1DA1F2', edgecolor = 'Black')\n",
    "    plt.axvline(x=data[num_col[i]].mean(),ls='--',color='red',alpha=0.4,label='Mean')\n",
    "    plt.axvline(x=data[num_col[i]].median(),ls='--',color='yellow',alpha=0.4,label='Median')\n",
    "    plt.xlabel(num_col[i], size=12)\n",
    "    plt.legend()\n",
    "    plt.show()"
   ]
  },
  {
   "cell_type": "markdown",
   "id": "ecc2c424",
   "metadata": {},
   "source": [
    "- `Delivery_person_Age` and `Time_taken(min)` column have relatively normal data distribution\n",
    "- `Delivery_person_Ratings` has negative skew data distribution, meanwhile `distance` column has positive skew data distribution"
   ]
  },
  {
   "cell_type": "markdown",
   "id": "47d79478",
   "metadata": {},
   "source": [
    "### Bivariate Analysis"
   ]
  },
  {
   "cell_type": "markdown",
   "id": "012032bf",
   "metadata": {},
   "source": [
    "In bivariate analysis, relationships between data features and target (time taken) will be explored."
   ]
  },
  {
   "cell_type": "code",
   "execution_count": 17,
   "id": "1227436c",
   "metadata": {},
   "outputs": [
    {
     "data": {
      "image/png": "[encoded data removed]",
      "text/plain": [
       "<Figure size 360x360 with 1 Axes>"
      ]
     },
     "metadata": {
      "needs_background": "light"
     },
     "output_type": "display_data"
    }
   ],
   "source": [
    "# Relationship between distance with time taken\n",
    "\n",
    "sns.lmplot(x='Distance', y=\"Time_taken(min)\",\n",
    "           line_kws={'color': 'red'}, data=data)\n",
    "plt.show()"
   ]
  },
  {
   "cell_type": "markdown",
   "id": "0f6c8f6e",
   "metadata": {},
   "source": [
    "There is consistent relationship between the time taken and the distance travelled to deliver the food. It looks like majority food delivered within 25-27 minutes regardless of distance."
   ]
  },
  {
   "cell_type": "code",
   "execution_count": 18,
   "id": "033cbcfd",
   "metadata": {
    "scrolled": false
   },
   "outputs": [
    {
     "data": {
      "image/png": "[encoded data removed]",
      "text/plain": [
       "<Figure size 360x360 with 1 Axes>"
      ]
     },
     "metadata": {
      "needs_background": "light"
     },
     "output_type": "display_data"
    }
   ],
   "source": [
    "# Relationship between age of the delivery partner with time taken\n",
    "\n",
    "sns.lmplot(x='Delivery_person_Age', y=\"Time_taken(min)\",\n",
    "           line_kws={'color': 'red'}, data=data)\n",
    "plt.show()"
   ]
  },
  {
   "cell_type": "markdown",
   "id": "c89a368d",
   "metadata": {},
   "source": [
    "There is a linear relationship between the time taken to deliver the food and the age of the person who delivering the food. It looks like person with the young age able to take less time than person with old age to deliver the food to customers."
   ]
  },
  {
   "cell_type": "code",
   "execution_count": 19,
   "id": "d40849a4",
   "metadata": {
    "scrolled": false
   },
   "outputs": [
    {
     "data": {
      "image/png": "[encoded data removed]",
      "text/plain": [
       "<Figure size 360x360 with 1 Axes>"
      ]
     },
     "metadata": {
      "needs_background": "light"
     },
     "output_type": "display_data"
    }
   ],
   "source": [
    "# Relationship between rating with time taken\n",
    "\n",
    "sns.lmplot(x='Delivery_person_Ratings', y=\"Time_taken(min)\",\n",
    "           line_kws={'color': 'red'}, data=data)\n",
    "plt.show()"
   ]
  },
  {
   "cell_type": "markdown",
   "id": "6b7e30eb",
   "metadata": {},
   "source": [
    "There is an inverse linear relationship between the time taken to deliver the food and the delivery person ratings. It looks like person with the higher ratings take a less time to deliver the food than person with low ratings."
   ]
  },
  {
   "cell_type": "markdown",
   "id": "a36f1504",
   "metadata": {},
   "source": [
    "Check if type of food ordered by the customer and the type of vehicle used by the delivery partner affects the delivery time or not."
   ]
  },
  {
   "cell_type": "code",
   "execution_count": 20,
   "id": "dc52211e",
   "metadata": {
    "scrolled": false
   },
   "outputs": [
    {
     "data": {
      "image/png": "[encoded data removed]",
      "text/plain": [
       "<Figure size 1008x432 with 1 Axes>"
      ]
     },
     "metadata": {
      "needs_background": "light"
     },
     "output_type": "display_data"
    }
   ],
   "source": [
    "# Boxplot for type of food ordered, type of vehicle, and time taken\n",
    "\n",
    "plt.figure(figsize=(14,6))\n",
    "sns.boxplot(x=\"Type_of_vehicle\", \n",
    "            y=\"Time_taken(min)\", hue=\"Type_of_order\",data=data)\n",
    "plt.legend(loc='upper right')\n",
    "plt.show()"
   ]
  },
  {
   "cell_type": "markdown",
   "id": "3f40fa59",
   "metadata": {},
   "source": [
    "It looks like there is not much difference between the time taken depending on the vehicle they are driving and the type of food they are delivering."
   ]
  },
  {
   "cell_type": "markdown",
   "id": "2538bae3",
   "metadata": {},
   "source": [
    "### Multivariate Analysis"
   ]
  },
  {
   "cell_type": "markdown",
   "id": "71c5bdf1",
   "metadata": {},
   "source": [
    "In multivariate analysis, Numerical features relationship strengths will be checked by heatmap correlation."
   ]
  },
  {
   "cell_type": "code",
   "execution_count": 21,
   "id": "733eb5c1",
   "metadata": {
    "scrolled": false
   },
   "outputs": [
    {
     "data": {
      "image/png": "[encoded data removed]",
      "text/plain": [
       "<Figure size 576x576 with 2 Axes>"
      ]
     },
     "metadata": {
      "needs_background": "light"
     },
     "output_type": "display_data"
    }
   ],
   "source": [
    "# Heatmap for the correlation data\n",
    "\n",
    "correlation = data.corr()\n",
    "\n",
    "plt.figure(figsize = (8, 8))\n",
    "sns.heatmap(correlation, annot=True, cmap='BuGn')\n",
    "plt.show()"
   ]
  },
  {
   "cell_type": "markdown",
   "id": "88cb63c8",
   "metadata": {},
   "source": [
    "- There are no strong correlation between features (correlation < 0.8)\n",
    "- The highest correlation with `Time_taken(min)` column is `Delivery_person_Age` with -0.33 (negative means inverse relationship)"
   ]
  },
  {
   "cell_type": "markdown",
   "id": "12bc3304",
   "metadata": {},
   "source": [
    "### Conclusion"
   ]
  },
  {
   "cell_type": "markdown",
   "id": "5f3772e1",
   "metadata": {},
   "source": [
    "From the results of the exploratory data analysis that was carried out, it was concluded that the factors that most influence the time of delivering food is ratings of the delivery person with inverse relationship."
   ]
  },
  {
   "cell_type": "markdown",
   "id": "86a990df",
   "metadata": {},
   "source": [
    "## Feature Engineering"
   ]
  },
  {
   "cell_type": "markdown",
   "id": "db8c432b",
   "metadata": {},
   "source": [
    "`ID` and `Delivery_person_ID` columns are both identities and will not be used for modeling (both columns will be dropped)."
   ]
  },
  {
   "cell_type": "code",
   "execution_count": 22,
   "id": "d8b58363",
   "metadata": {
    "scrolled": true
   },
   "outputs": [
    {
     "name": "stdout",
     "output_type": "stream",
     "text": [
      "<class 'pandas.core.frame.DataFrame'>\n",
      "RangeIndex: 45593 entries, 0 to 45592\n",
      "Data columns (total 6 columns):\n",
      " #   Column                   Non-Null Count  Dtype  \n",
      "---  ------                   --------------  -----  \n",
      " 0   Delivery_person_Age      45593 non-null  int64  \n",
      " 1   Delivery_person_Ratings  45593 non-null  float64\n",
      " 2   Distance                 45593 non-null  float64\n",
      " 3   Type_of_order            45593 non-null  object \n",
      " 4   Type_of_vehicle          45593 non-null  object \n",
      " 5   Time_taken(min)          45593 non-null  int64  \n",
      "dtypes: float64(2), int64(2), object(2)\n",
      "memory usage: 2.1+ MB\n"
     ]
    }
   ],
   "source": [
    "# Drop unused columns\n",
    "\n",
    "data = data.drop(['ID', 'Delivery_person_ID'], axis=1)\n",
    "\n",
    "# Check info\n",
    "\n",
    "data.info()"
   ]
  },
  {
   "cell_type": "markdown",
   "id": "07eeb69c",
   "metadata": {},
   "source": [
    "### Outlier Handling"
   ]
  },
  {
   "cell_type": "markdown",
   "id": "63e84d68",
   "metadata": {},
   "source": [
    "Based on outlier check, outliers in `Delivery_person_Ratings` and `distance` needs to removed."
   ]
  },
  {
   "cell_type": "code",
   "execution_count": 23,
   "id": "7f3f076d",
   "metadata": {},
   "outputs": [],
   "source": [
    "# Remove outliers based on max value\n",
    "\n",
    "def max_value(df1, variable, top):\n",
    "    return np.where(df1[variable]>top, top, df1[variable])\n",
    "\n",
    "for df1 in [data]:\n",
    "  df1['Distance'] = max_value(df1, 'Distance', 31.964945393444165)"
   ]
  },
  {
   "cell_type": "code",
   "execution_count": 24,
   "id": "041c9f90",
   "metadata": {},
   "outputs": [],
   "source": [
    "# Remove outliers based on min value\n",
    "\n",
    "def min_value(df2, variable, low):\n",
    "    return np.where(df2[variable]<low, low, df2[variable])\n",
    "\n",
    "for df2 in [data]:\n",
    "  df2['Delivery_person_Ratings'] = min_value(df2, 'Delivery_person_Ratings', 3.999999999999999)"
   ]
  },
  {
   "cell_type": "markdown",
   "id": "540453c1",
   "metadata": {},
   "source": [
    "### One Hot Encoding"
   ]
  },
  {
   "cell_type": "markdown",
   "id": "88a6a753",
   "metadata": {},
   "source": [
    "`Type_of_order` and `Type_of_vehicle` columns are categorical data. Both columns have to transform into numerical data so that it can be used for the modeling."
   ]
  },
  {
   "cell_type": "code",
   "execution_count": 25,
   "id": "1b44f14d",
   "metadata": {},
   "outputs": [
    {
     "data": {
      "text/html": [
       "<div>\n",
       "<style scoped>\n",
       "    .dataframe tbody tr th:only-of-type {\n",
       "        vertical-align: middle;\n",
       "    }\n",
       "\n",
       "    .dataframe tbody tr th {\n",
       "        vertical-align: top;\n",
       "    }\n",
       "\n",
       "    .dataframe thead th {\n",
       "        text-align: right;\n",
       "    }\n",
       "</style>\n",
       "<table border=\"1\" class=\"dataframe\">\n",
       "  <thead>\n",
       "    <tr style=\"text-align: right;\">\n",
       "      <th></th>\n",
       "      <th>Delivery_person_Age</th>\n",
       "      <th>Delivery_person_Ratings</th>\n",
       "      <th>Distance</th>\n",
       "      <th>Time_taken(min)</th>\n",
       "      <th>Type_of_order_Buffet</th>\n",
       "      <th>Type_of_order_Drinks</th>\n",
       "      <th>Type_of_order_Meal</th>\n",
       "      <th>Type_of_order_Snack</th>\n",
       "      <th>Type_of_vehicle_bicycle</th>\n",
       "      <th>Type_of_vehicle_electric_scooter</th>\n",
       "      <th>Type_of_vehicle_motorcycle</th>\n",
       "      <th>Type_of_vehicle_scooter</th>\n",
       "    </tr>\n",
       "  </thead>\n",
       "  <tbody>\n",
       "    <tr>\n",
       "      <th>0</th>\n",
       "      <td>37</td>\n",
       "      <td>4.9</td>\n",
       "      <td>3.025149</td>\n",
       "      <td>24</td>\n",
       "      <td>0</td>\n",
       "      <td>0</td>\n",
       "      <td>0</td>\n",
       "      <td>1</td>\n",
       "      <td>0</td>\n",
       "      <td>0</td>\n",
       "      <td>1</td>\n",
       "      <td>0</td>\n",
       "    </tr>\n",
       "    <tr>\n",
       "      <th>1</th>\n",
       "      <td>34</td>\n",
       "      <td>4.5</td>\n",
       "      <td>20.183530</td>\n",
       "      <td>33</td>\n",
       "      <td>0</td>\n",
       "      <td>0</td>\n",
       "      <td>0</td>\n",
       "      <td>1</td>\n",
       "      <td>0</td>\n",
       "      <td>0</td>\n",
       "      <td>0</td>\n",
       "      <td>1</td>\n",
       "    </tr>\n",
       "    <tr>\n",
       "      <th>2</th>\n",
       "      <td>23</td>\n",
       "      <td>4.4</td>\n",
       "      <td>1.552758</td>\n",
       "      <td>26</td>\n",
       "      <td>0</td>\n",
       "      <td>1</td>\n",
       "      <td>0</td>\n",
       "      <td>0</td>\n",
       "      <td>0</td>\n",
       "      <td>0</td>\n",
       "      <td>1</td>\n",
       "      <td>0</td>\n",
       "    </tr>\n",
       "    <tr>\n",
       "      <th>3</th>\n",
       "      <td>38</td>\n",
       "      <td>4.7</td>\n",
       "      <td>7.790401</td>\n",
       "      <td>21</td>\n",
       "      <td>1</td>\n",
       "      <td>0</td>\n",
       "      <td>0</td>\n",
       "      <td>0</td>\n",
       "      <td>0</td>\n",
       "      <td>0</td>\n",
       "      <td>1</td>\n",
       "      <td>0</td>\n",
       "    </tr>\n",
       "    <tr>\n",
       "      <th>4</th>\n",
       "      <td>32</td>\n",
       "      <td>4.6</td>\n",
       "      <td>6.210138</td>\n",
       "      <td>30</td>\n",
       "      <td>0</td>\n",
       "      <td>0</td>\n",
       "      <td>0</td>\n",
       "      <td>1</td>\n",
       "      <td>0</td>\n",
       "      <td>0</td>\n",
       "      <td>0</td>\n",
       "      <td>1</td>\n",
       "    </tr>\n",
       "  </tbody>\n",
       "</table>\n",
       "</div>"
      ],
      "text/plain": [
       "   Delivery_person_Age  Delivery_person_Ratings   Distance  Time_taken(min)  \\\n",
       "0                   37                      4.9   3.025149               24   \n",
       "1                   34                      4.5  20.183530               33   \n",
       "2                   23                      4.4   1.552758               26   \n",
       "3                   38                      4.7   7.790401               21   \n",
       "4                   32                      4.6   6.210138               30   \n",
       "\n",
       "   Type_of_order_Buffet   Type_of_order_Drinks   Type_of_order_Meal   \\\n",
       "0                      0                      0                    0   \n",
       "1                      0                      0                    0   \n",
       "2                      0                      1                    0   \n",
       "3                      1                      0                    0   \n",
       "4                      0                      0                    0   \n",
       "\n",
       "   Type_of_order_Snack   Type_of_vehicle_bicycle   \\\n",
       "0                     1                         0   \n",
       "1                     1                         0   \n",
       "2                     0                         0   \n",
       "3                     0                         0   \n",
       "4                     1                         0   \n",
       "\n",
       "   Type_of_vehicle_electric_scooter   Type_of_vehicle_motorcycle   \\\n",
       "0                                  0                            1   \n",
       "1                                  0                            0   \n",
       "2                                  0                            1   \n",
       "3                                  0                            1   \n",
       "4                                  0                            0   \n",
       "\n",
       "   Type_of_vehicle_scooter   \n",
       "0                         0  \n",
       "1                         1  \n",
       "2                         0  \n",
       "3                         0  \n",
       "4                         1  "
      ]
     },
     "execution_count": 25,
     "metadata": {},
     "output_type": "execute_result"
    }
   ],
   "source": [
    "# One Hot Encoding for type of order and type of vehicle\n",
    "\n",
    "data = pd.get_dummies(data)\n",
    "\n",
    "# Take a look at data\n",
    "\n",
    "data.head()"
   ]
  },
  {
   "cell_type": "code",
   "execution_count": 26,
   "id": "6e156830",
   "metadata": {
    "scrolled": true
   },
   "outputs": [
    {
     "name": "stdout",
     "output_type": "stream",
     "text": [
      "<class 'pandas.core.frame.DataFrame'>\n",
      "RangeIndex: 45593 entries, 0 to 45592\n",
      "Data columns (total 12 columns):\n",
      " #   Column                             Non-Null Count  Dtype  \n",
      "---  ------                             --------------  -----  \n",
      " 0   Delivery_person_Age                45593 non-null  int64  \n",
      " 1   Delivery_person_Ratings            45593 non-null  float64\n",
      " 2   Distance                           45593 non-null  float64\n",
      " 3   Time_taken(min)                    45593 non-null  int64  \n",
      " 4   Type_of_order_Buffet               45593 non-null  uint8  \n",
      " 5   Type_of_order_Drinks               45593 non-null  uint8  \n",
      " 6   Type_of_order_Meal                 45593 non-null  uint8  \n",
      " 7   Type_of_order_Snack                45593 non-null  uint8  \n",
      " 8   Type_of_vehicle_bicycle            45593 non-null  uint8  \n",
      " 9   Type_of_vehicle_electric_scooter   45593 non-null  uint8  \n",
      " 10  Type_of_vehicle_motorcycle         45593 non-null  uint8  \n",
      " 11  Type_of_vehicle_scooter            45593 non-null  uint8  \n",
      "dtypes: float64(2), int64(2), uint8(8)\n",
      "memory usage: 1.7 MB\n"
     ]
    }
   ],
   "source": [
    "# General info\n",
    "\n",
    "data.info()"
   ]
  },
  {
   "cell_type": "markdown",
   "id": "2af75a93",
   "metadata": {},
   "source": [
    "### Split Dataset"
   ]
  },
  {
   "cell_type": "code",
   "execution_count": 27,
   "id": "afe6c346",
   "metadata": {},
   "outputs": [],
   "source": [
    "# Split train-test data into proportion 80:20\n",
    "\n",
    "X = data.drop(columns='Time_taken(min)')\n",
    "y = data['Time_taken(min)']\n",
    "X_train, X_test, y_train, y_test = train_test_split(X, y, \n",
    "                                                    test_size=0.20, random_state=42)"
   ]
  },
  {
   "cell_type": "markdown",
   "id": "4a522e6b",
   "metadata": {},
   "source": [
    "### Multicollinearity Check"
   ]
  },
  {
   "cell_type": "code",
   "execution_count": 28,
   "id": "f00b7d26",
   "metadata": {},
   "outputs": [
    {
     "data": {
      "text/html": [
       "<div>\n",
       "<style scoped>\n",
       "    .dataframe tbody tr th:only-of-type {\n",
       "        vertical-align: middle;\n",
       "    }\n",
       "\n",
       "    .dataframe tbody tr th {\n",
       "        vertical-align: top;\n",
       "    }\n",
       "\n",
       "    .dataframe thead th {\n",
       "        text-align: right;\n",
       "    }\n",
       "</style>\n",
       "<table border=\"1\" class=\"dataframe\">\n",
       "  <thead>\n",
       "    <tr style=\"text-align: right;\">\n",
       "      <th></th>\n",
       "      <th>feature</th>\n",
       "      <th>vif score</th>\n",
       "    </tr>\n",
       "  </thead>\n",
       "  <tbody>\n",
       "    <tr>\n",
       "      <th>1</th>\n",
       "      <td>Delivery_person_Age</td>\n",
       "      <td>1.010354</td>\n",
       "    </tr>\n",
       "    <tr>\n",
       "      <th>2</th>\n",
       "      <td>Delivery_person_Ratings</td>\n",
       "      <td>1.016234</td>\n",
       "    </tr>\n",
       "    <tr>\n",
       "      <th>3</th>\n",
       "      <td>Distance</td>\n",
       "      <td>1.005852</td>\n",
       "    </tr>\n",
       "  </tbody>\n",
       "</table>\n",
       "</div>"
      ],
      "text/plain": [
       "                   feature  vif score\n",
       "1      Delivery_person_Age   1.010354\n",
       "2  Delivery_person_Ratings   1.016234\n",
       "3                 Distance   1.005852"
      ]
     },
     "execution_count": 28,
     "metadata": {},
     "output_type": "execute_result"
    }
   ],
   "source": [
    "# Multicollinearity check using vif score\n",
    "\n",
    "x = add_constant(X_train[['Delivery_person_Age', 'Delivery_person_Ratings', 'Distance']])\n",
    "df_vif = pd.DataFrame([vif(x.values, i) for i in range(x.shape[1])],\n",
    "                      index = x.columns).reset_index()\n",
    "df_vif.columns = ['feature', 'vif score']\n",
    "df_vif = df_vif.loc[df_vif.feature != 'const']\n",
    "df_vif"
   ]
  },
  {
   "cell_type": "markdown",
   "id": "96dbd161",
   "metadata": {},
   "source": [
    "There are no multicollinearity since the vif score is below than 10."
   ]
  },
  {
   "cell_type": "markdown",
   "id": "aa2449fe",
   "metadata": {},
   "source": [
    "## Modeling and Evaluation"
   ]
  },
  {
   "cell_type": "markdown",
   "id": "a9f25841",
   "metadata": {},
   "source": [
    "Since this is a regression problem, regression algorithms will be used for model training. 5 algorithms will be used for model training. The [RMSE](https://en.wikipedia.org/wiki/Root-mean-square_deviation) score is a reference for how well the model performs"
   ]
  },
  {
   "cell_type": "code",
   "execution_count": 29,
   "id": "e08ed50f",
   "metadata": {},
   "outputs": [],
   "source": [
    "# Create rmse calculation\n",
    "\n",
    "def rmse(targets,predictions):\n",
    "    differences = predictions - targets\n",
    "    differences_squared = differences ** 2\n",
    "    mean_of_differences_squared = differences_squared.mean()\n",
    "    rmse_val = np.sqrt(mean_of_differences_squared)\n",
    "    return rmse_val"
   ]
  },
  {
   "cell_type": "code",
   "execution_count": 30,
   "id": "f2858034",
   "metadata": {},
   "outputs": [
    {
     "data": {
      "text/plain": [
       "[LinearRegression(),\n",
       " Ridge(),\n",
       " Lasso(),\n",
       " DecisionTreeRegressor(),\n",
       " RandomForestRegressor()]"
      ]
     },
     "execution_count": 30,
     "metadata": {},
     "output_type": "execute_result"
    }
   ],
   "source": [
    "# Load regression algorithms\n",
    "\n",
    "regressors = [LinearRegression(), Ridge(), Lasso(), \n",
    "              DecisionTreeRegressor(), RandomForestRegressor()]\n",
    "\n",
    "regressors"
   ]
  },
  {
   "cell_type": "code",
   "execution_count": 31,
   "id": "36937900",
   "metadata": {},
   "outputs": [],
   "source": [
    "# Create dataframe for model performance evaluation\n",
    "\n",
    "df = pd.DataFrame(columns = ['Algorithm', 'RMSE'])"
   ]
  },
  {
   "cell_type": "markdown",
   "id": "625884e7",
   "metadata": {},
   "source": [
    "### Algorithm Training"
   ]
  },
  {
   "cell_type": "code",
   "execution_count": 32,
   "id": "43efd331",
   "metadata": {},
   "outputs": [
    {
     "name": "stderr",
     "output_type": "stream",
     "text": [
      "The frame.append method is deprecated and will be removed from pandas in a future version. Use pandas.concat instead.\n",
      "The frame.append method is deprecated and will be removed from pandas in a future version. Use pandas.concat instead.\n",
      "The frame.append method is deprecated and will be removed from pandas in a future version. Use pandas.concat instead.\n",
      "The frame.append method is deprecated and will be removed from pandas in a future version. Use pandas.concat instead.\n",
      "The frame.append method is deprecated and will be removed from pandas in a future version. Use pandas.concat instead.\n"
     ]
    }
   ],
   "source": [
    "# Model training\n",
    "\n",
    "for regressor in regressors:\n",
    "    regressor.fit(X_train, y_train)\n",
    "    y_pred = regressor.predict(X_test)\n",
    "    model = str(type(regressor)).split('.')[-1][:-2]\n",
    "    \n",
    "    # RMSE value\n",
    "    \n",
    "    rmse_value = rmse(y_test, y_pred)\n",
    "    \n",
    "    # Input calculation result into a dataframe\n",
    "    \n",
    "    df = df.append({'Algorithm': model,\n",
    "                    'RMSE': rmse_value},\n",
    "                     ignore_index=True)"
   ]
  },
  {
   "cell_type": "code",
   "execution_count": 33,
   "id": "7053fa69",
   "metadata": {},
   "outputs": [
    {
     "data": {
      "text/html": [
       "<div>\n",
       "<style scoped>\n",
       "    .dataframe tbody tr th:only-of-type {\n",
       "        vertical-align: middle;\n",
       "    }\n",
       "\n",
       "    .dataframe tbody tr th {\n",
       "        vertical-align: top;\n",
       "    }\n",
       "\n",
       "    .dataframe thead th {\n",
       "        text-align: right;\n",
       "    }\n",
       "</style>\n",
       "<table border=\"1\" class=\"dataframe\">\n",
       "  <thead>\n",
       "    <tr style=\"text-align: right;\">\n",
       "      <th></th>\n",
       "      <th>Algorithm</th>\n",
       "      <th>RMSE</th>\n",
       "    </tr>\n",
       "  </thead>\n",
       "  <tbody>\n",
       "    <tr>\n",
       "      <th>0</th>\n",
       "      <td>LinearRegression</td>\n",
       "      <td>7.927093</td>\n",
       "    </tr>\n",
       "    <tr>\n",
       "      <th>1</th>\n",
       "      <td>Ridge</td>\n",
       "      <td>7.927084</td>\n",
       "    </tr>\n",
       "    <tr>\n",
       "      <th>2</th>\n",
       "      <td>Lasso</td>\n",
       "      <td>8.518059</td>\n",
       "    </tr>\n",
       "    <tr>\n",
       "      <th>3</th>\n",
       "      <td>DecisionTreeRegressor</td>\n",
       "      <td>10.291782</td>\n",
       "    </tr>\n",
       "    <tr>\n",
       "      <th>4</th>\n",
       "      <td>RandomForestRegressor</td>\n",
       "      <td>7.775025</td>\n",
       "    </tr>\n",
       "  </tbody>\n",
       "</table>\n",
       "</div>"
      ],
      "text/plain": [
       "               Algorithm       RMSE\n",
       "0       LinearRegression   7.927093\n",
       "1                  Ridge   7.927084\n",
       "2                  Lasso   8.518059\n",
       "3  DecisionTreeRegressor  10.291782\n",
       "4  RandomForestRegressor   7.775025"
      ]
     },
     "execution_count": 33,
     "metadata": {},
     "output_type": "execute_result"
    }
   ],
   "source": [
    "# Models evaluation\n",
    "\n",
    "df"
   ]
  },
  {
   "cell_type": "markdown",
   "id": "a0694e3b",
   "metadata": {},
   "source": [
    "- Based on each RMSE (Root Squared Mean Error) result from 5 trained algorithms, best algorithm is random forest regressor because have the smallest error than other algorithms\n",
    "- Performance of the model will try to be improved with hyperparameter tuning"
   ]
  },
  {
   "cell_type": "markdown",
   "id": "fef1c94c",
   "metadata": {},
   "source": [
    "### Hyperparameter Tuning"
   ]
  },
  {
   "cell_type": "markdown",
   "id": "52144dba",
   "metadata": {},
   "source": [
    "Hyperparameter tuning using GridSearchCV library."
   ]
  },
  {
   "cell_type": "code",
   "execution_count": 34,
   "id": "9acacb50",
   "metadata": {
    "scrolled": false
   },
   "outputs": [
    {
     "data": {
      "text/plain": [
       "GridSearchCV(cv=5, estimator=RandomForestRegressor(),\n",
       "             param_grid={'bootstrap': ('True', 'False'),\n",
       "                         'max_depth': (10, 20, 30, 40, 50),\n",
       "                         'n_estimators': (100, 200, 300, 400, 500)},\n",
       "             scoring='neg_mean_squared_error')"
      ]
     },
     "execution_count": 34,
     "metadata": {},
     "output_type": "execute_result"
    }
   ],
   "source": [
    "# Set parameter for tuning\n",
    "\n",
    "parameters = {'n_estimators': (100, 200, 300, 400, 500),\n",
    "              'max_depth':(10, 20, 30, 40, 50),\n",
    "              'bootstrap':('True', 'False')\n",
    "             }\n",
    "\n",
    "rf = RandomForestRegressor()\n",
    "\n",
    "grid_search_forest = GridSearchCV(rf, parameters, cv=5, scoring='neg_mean_squared_error')\n",
    "grid_search_forest.fit(X_train, y_train)"
   ]
  },
  {
   "cell_type": "code",
   "execution_count": 35,
   "id": "b21d5dfc",
   "metadata": {},
   "outputs": [
    {
     "name": "stdout",
     "output_type": "stream",
     "text": [
      "Best parameters: {'bootstrap': 'True', 'max_depth': 10, 'n_estimators': 300}\n",
      "\n",
      "\n",
      "Best estimator: RandomForestRegressor(bootstrap='True', max_depth=10, n_estimators=300)\n"
     ]
    }
   ],
   "source": [
    "# Get the best parameters and estimator\n",
    "\n",
    "print(\"Best parameters:\", grid_search_forest.best_params_)\n",
    "print('\\n')\n",
    "print(\"Best estimator:\", grid_search_forest.best_estimator_)"
   ]
  },
  {
   "cell_type": "code",
   "execution_count": 36,
   "id": "9c56fd82",
   "metadata": {},
   "outputs": [
    {
     "name": "stdout",
     "output_type": "stream",
     "text": [
      "RMSE:  7.281613193317689\n"
     ]
    }
   ],
   "source": [
    "# Trained model using best parameter\n",
    "\n",
    "model = grid_search_forest.best_estimator_\n",
    "model.fit(X_train, y_train)\n",
    "y_pred = model.predict(X_test)\n",
    "\n",
    "# Evaluate tuned model\n",
    "\n",
    "rmse_value = rmse(y_test, y_pred)\n",
    "print('RMSE: ', rmse_value)"
   ]
  },
  {
   "cell_type": "markdown",
   "id": "c857ddd0",
   "metadata": {},
   "source": [
    "### Feature Importances"
   ]
  },
  {
   "cell_type": "markdown",
   "id": "cb6f3a88",
   "metadata": {},
   "source": [
    "All features will be calculated to check the importance. Higher score means that the specific feature will have a larger effect on the model that is being used to predict a certain variable. To calculate feature importances, [SHAP](https://towardsdatascience.com/using-shap-values-to-explain-how-your-machine-learning-model-works-732b3f40e137) method will be used."
   ]
  },
  {
   "cell_type": "code",
   "execution_count": 37,
   "id": "b3ff11e3",
   "metadata": {},
   "outputs": [],
   "source": [
    "# Create function\n",
    "\n",
    "def print_feature_importances_random_forest(random_forest_model):\n",
    "    \n",
    "    '''\n",
    "    Prints the feature importances of a Random Forest model in an ordered way.\n",
    "    '''\n",
    "    \n",
    "    # Fetch the feature importances and feature names\n",
    "    \n",
    "    importances = random_forest_model.feature_importances_\n",
    "    features = random_forest_model.feature_names_in_\n",
    "    \n",
    "    # Organize them in a dictionary\n",
    "    \n",
    "    feature_importances = {fea: imp for imp, fea in zip(importances, features)}\n",
    "    \n",
    "    # Sorts the dictionary\n",
    "    \n",
    "    feature_importances = {k: v for k, v in sorted(feature_importances.items(), key=lambda item: item[1], reverse = True)}\n",
    "    \n",
    "    # Prints the feature importances\n",
    "    \n",
    "    for k, v in feature_importances.items():\n",
    "        print(f\"{k} -> {v:.4f}\")"
   ]
  },
  {
   "cell_type": "code",
   "execution_count": 38,
   "id": "38d8437c",
   "metadata": {},
   "outputs": [
    {
     "name": "stdout",
     "output_type": "stream",
     "text": [
      "Delivery_person_Ratings -> 0.4235\n",
      "Distance -> 0.3111\n",
      "Delivery_person_Age -> 0.1838\n",
      "Type_of_vehicle_motorcycle  -> 0.0603\n",
      "Type_of_order_Drinks  -> 0.0046\n",
      "Type_of_order_Meal  -> 0.0046\n",
      "Type_of_order_Buffet  -> 0.0045\n",
      "Type_of_order_Snack  -> 0.0043\n",
      "Type_of_vehicle_scooter  -> 0.0018\n",
      "Type_of_vehicle_electric_scooter  -> 0.0009\n",
      "Type_of_vehicle_bicycle  -> 0.0008\n"
     ]
    }
   ],
   "source": [
    "# Calculate feature importance score\n",
    "\n",
    "print_feature_importances_random_forest(model)"
   ]
  },
  {
   "cell_type": "code",
   "execution_count": 39,
   "id": "9f37c6bb",
   "metadata": {},
   "outputs": [
    {
     "name": "stderr",
     "output_type": "stream",
     "text": [
      "Permutation explainer: 9120it [4:05:16,  1.61s/it]                                                                     \n"
     ]
    }
   ],
   "source": [
    "# Calculate SHAP values\n",
    "\n",
    "explainer = shap.Explainer(model.predict, X_test)\n",
    "shap_values = explainer(X_test)"
   ]
  },
  {
   "cell_type": "code",
   "execution_count": 40,
   "id": "a1c315ae",
   "metadata": {},
   "outputs": [
    {
     "data": {
      "image/png": "[encoded data removed]",
      "text/plain": [
       "<Figure size 576x424.8 with 2 Axes>"
      ]
     },
     "metadata": {
      "needs_background": "light"
     },
     "output_type": "display_data"
    }
   ],
   "source": [
    "# Feature importance visualization\n",
    "\n",
    "shap.summary_plot(shap_values)"
   ]
  },
  {
   "cell_type": "markdown",
   "id": "6dcac6d4",
   "metadata": {},
   "source": [
    "`Delivery_person_Ratings` variable become the most importance feature in this model, followed by `Distance` and `Delivery_person_age` variables. Then, we can see `Delivery_person_Ratings` variable has a negative contribution when its values are high, and a positive contribution on low values."
   ]
  },
  {
   "cell_type": "code",
   "execution_count": 41,
   "id": "1c840f54",
   "metadata": {
    "scrolled": false
   },
   "outputs": [],
   "source": [
    "# Save Model\n",
    "\n",
    "with open('Deliver_Predict','wb') as r:\n",
    "    pickle.dump(model,r)"
   ]
  },
  {
   "cell_type": "markdown",
   "id": "fd4bb5f2",
   "metadata": {},
   "source": [
    "## Conclusion and Recommendation"
   ]
  },
  {
   "cell_type": "markdown",
   "id": "82e11a5a",
   "metadata": {},
   "source": [
    "### Conclusion\n",
    "\n",
    "1. Rating of person in previous delivers become is the most influential factor on the delivery time of food to the destination location. Person with the higher ratings take a less time to deliver the food than person with low ratings\n",
    "2. Model has RMSE score 7.28 and that means error between delivery time prediction and delivery time actual is 7.28 minutes"
   ]
  },
  {
   "cell_type": "markdown",
   "id": "97d9737c",
   "metadata": {},
   "source": [
    "### Recommendation\n",
    "\n",
    "The rating obtained by the deliveryman is a representation of the deliveryman's performance in delivering food to the intended location in terms of delivery time. Of course this is a potential loss of customers if this continues to happen. Delivery time performance needs to be maintained so that the rating obtained is high and customer trust can still be maintained.\n",
    "The RMSE value of the model can be used as a guarantee of delivery time performance which can be given to the customer so that as much as possible the delivery time is not more than the existing RMSE score (delay in delivery time of not more than 7.28 minutes)."
   ]
  }
 ],
 "metadata": {
  "kernelspec": {
   "display_name": "Python 3 (ipykernel)",
   "language": "python",
   "name": "python3"
  },
  "language_info": {
   "codemirror_mode": {
    "name": "ipython",
    "version": 3
   },
   "file_extension": ".py",
   "mimetype": "text/x-python",
   "name": "python",
   "nbconvert_exporter": "python",
   "pygments_lexer": "ipython3",
   "version": "3.9.12"
  }
 },
 "nbformat": 4,
 "nbformat_minor": 5
}
